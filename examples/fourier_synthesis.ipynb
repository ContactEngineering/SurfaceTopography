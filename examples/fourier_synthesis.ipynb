{
 "cells": [
  {
   "cell_type": "code",
   "execution_count": 13,
   "metadata": {
    "collapsed": true
   },
   "outputs": [],
   "source": [
    "import numpy as np\n",
    "from matplotlib import pyplot as plt\n",
    "\n",
    "from SurfaceTopography.Generation import fourier_synthesis"
   ]
  },
  {
   "cell_type": "markdown",
   "source": [
    "## Two equivalent ways to create a self-affine PSD."
   ],
   "metadata": {
    "collapsed": false,
    "pycharm": {
     "name": "#%% md\n"
    }
   }
  },
  {
   "cell_type": "code",
   "execution_count": 14,
   "outputs": [],
   "source": [
    "c0 = 1e-28\n",
    "\n",
    "L = 5e-6\n",
    "n = 256\n",
    "\n",
    "short_cutoff = 4 * L / n\n",
    "long_cutoff = 1e-6\n",
    "\n",
    "qr = 2 * np.pi / long_cutoff\n",
    "qs =  2 * np.pi / short_cutoff\n",
    "\n",
    "H = 0.8\n",
    "\n",
    "def psd(q):\n",
    "    psd = np.zeros_like(q)\n",
    "    psd[q < qr] = c0 * qr **(- 2 -2 * H)\n",
    "    mask = np.logical_and(q > qr, q <= qs)\n",
    "    psd[mask] = c0 * q[mask] **(- 2 -2 * H)\n",
    "    return psd\n",
    "\n",
    "np.random.seed(0)\n",
    "topo_psd = fourier_synthesis(\n",
    "    nb_grid_pts=(n,n),\n",
    "    physical_sizes=(L, L),\n",
    "    psd=psd,\n",
    "    )\n",
    "\n",
    "np.random.seed(0)\n",
    "topo_c0 = fourier_synthesis(\n",
    "    nb_grid_pts=(n,n),\n",
    "    physical_sizes=(L, L),\n",
    "    c0=c0,\n",
    "    long_cutoff=long_cutoff,\n",
    "    short_cutoff=short_cutoff,\n",
    "    hurst=H\n",
    "    )"
   ],
   "metadata": {
    "collapsed": false,
    "pycharm": {
     "name": "#%%\n"
    }
   }
  },
  {
   "cell_type": "code",
   "execution_count": 15,
   "outputs": [
    {
     "data": {
      "text/plain": "(1e-62, 3.405073059599927e-51)"
     },
     "execution_count": 15,
     "metadata": {},
     "output_type": "execute_result"
    },
    {
     "data": {
      "text/plain": "<Figure size 432x288 with 1 Axes>",
      "image/png": "[encoded data removed]"
     },
     "metadata": {
      "needs_background": "light"
     },
     "output_type": "display_data"
    }
   ],
   "source": [
    "fig, ax = plt.subplots()\n",
    "\n",
    "ax.loglog(*topo_c0.power_spectrum_from_area(), \"x\")\n",
    "ax.loglog(*topo_psd.power_spectrum_from_area(), \"+\")\n",
    "ax.set_ylim(bottom=1e-62)"
   ],
   "metadata": {
    "collapsed": false,
    "pycharm": {
     "name": "#%%\n"
    }
   }
  },
  {
   "cell_type": "code",
   "execution_count": 18,
   "outputs": [
    {
     "data": {
      "text/plain": "1.601219761283726e-20"
     },
     "execution_count": 18,
     "metadata": {},
     "output_type": "execute_result"
    }
   ],
   "source": [
    "topo_c0.rms_height_from_area()"
   ],
   "metadata": {
    "collapsed": false,
    "pycharm": {
     "name": "#%%\n"
    }
   }
  },
  {
   "cell_type": "code",
   "execution_count": 19,
   "outputs": [
    {
     "data": {
      "text/plain": "1.601219761283726e-20"
     },
     "execution_count": 19,
     "metadata": {},
     "output_type": "execute_result"
    }
   ],
   "source": [
    "topo_psd.rms_height_from_area()"
   ],
   "metadata": {
    "collapsed": false,
    "pycharm": {
     "name": "#%%\n"
    }
   }
  },
  {
   "cell_type": "code",
   "execution_count": null,
   "outputs": [],
   "source": [],
   "metadata": {
    "collapsed": false,
    "pycharm": {
     "name": "#%%\n"
    }
   }
  }
 ],
 "metadata": {
  "kernelspec": {
   "display_name": "Python 3",
   "language": "python",
   "name": "python3"
  },
  "language_info": {
   "codemirror_mode": {
    "name": "ipython",
    "version": 2
   },
   "file_extension": ".py",
   "mimetype": "text/x-python",
   "name": "python",
   "nbconvert_exporter": "python",
   "pygments_lexer": "ipython2",
   "version": "2.7.6"
  }
 },
 "nbformat": 4,
 "nbformat_minor": 0
}